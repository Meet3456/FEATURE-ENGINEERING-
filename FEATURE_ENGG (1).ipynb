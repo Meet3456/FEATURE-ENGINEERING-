{
 "cells": [
  {
   "cell_type": "markdown",
   "id": "d68b89e2-710b-4d14-b034-e76a2897e2af",
   "metadata": {},
   "source": [
    "# Imbalanced Dataset Handling\n",
    "1. Upsampling\n",
    "2. Down Sampling"
   ]
  },
  {
   "cell_type": "code",
   "execution_count": 2,
   "id": "e1ab3544-0d3d-447e-b2bf-0cea53e6c651",
   "metadata": {},
   "outputs": [],
   "source": [
    "import numpy as np\n",
    "import pandas as pd"
   ]
  },
  {
   "cell_type": "code",
   "execution_count": 36,
   "id": "bc7f10de-7b1c-4490-8034-f0fc11b028f2",
   "metadata": {},
   "outputs": [],
   "source": [
    "## CREATION OF DATASET:"
   ]
  },
  {
   "cell_type": "code",
   "execution_count": 3,
   "id": "ab381abd-a078-4c32-be3e-aa338c2945e5",
   "metadata": {},
   "outputs": [],
   "source": [
    "np.random.seed(120)"
   ]
  },
  {
   "cell_type": "code",
   "execution_count": 4,
   "id": "256beaa4-e43a-4fbe-ba08-8f62d08273e0",
   "metadata": {},
   "outputs": [],
   "source": [
    "n_samples = 1000\n",
    "class_0_ratio = 0.9\n",
    "\n",
    "no_class_0_samples = int(n_samples * class_0_ratio)   # 900 samples of class -> 0\n",
    "no_class_1_samples = int(n_samples - no_class_0_samples) # 100 samples of class -> 1\n"
   ]
  },
  {
   "cell_type": "code",
   "execution_count": 5,
   "id": "1e742d8c-cce6-42a3-8e4d-5fb8687791f0",
   "metadata": {},
   "outputs": [
    {
     "data": {
      "text/plain": [
       "(900, 100)"
      ]
     },
     "execution_count": 5,
     "metadata": {},
     "output_type": "execute_result"
    }
   ],
   "source": [
    "no_class_0_samples , no_class_1_samples"
   ]
  },
  {
   "cell_type": "code",
   "execution_count": 20,
   "id": "ae78748b-dc83-452f-9827-ec543a8e1d92",
   "metadata": {},
   "outputs": [],
   "source": [
    "class_0 = pd.DataFrame({\n",
    "    \"feature_1\": np.random.normal(loc=0.0, scale=1.0, size=no_class_0_samples), # Draw random samples from a normal (Gaussian) distribution.\n",
    "    \"feature_2\": np.random.normal(loc=0.0, scale=1.0, size=no_class_0_samples),\n",
    "    \"target\":[0]*no_class_0_samples\n",
    "})\n",
    "\n",
    "class_1= pd.DataFrame({\n",
    "    \"feature_1\": np.random.normal(loc=0.0, scale=1.0, size=no_class_1_samples),# Draw random samples from a normal (Gaussian) distribution.\n",
    "    \"feature_2\": np.random.normal(loc=0.0, scale=1.0, size=no_class_1_samples),  \n",
    "    \"target\":[1]*no_class_1_samples\n",
    "})"
   ]
  },
  {
   "cell_type": "code",
   "execution_count": 21,
   "id": "85381dde-c83d-43b2-bb39-a552a3ecbae2",
   "metadata": {},
   "outputs": [],
   "source": [
    "df=pd.concat([class_0,class_1]).reset_index(drop=True)"
   ]
  },
  {
   "cell_type": "code",
   "execution_count": 22,
   "id": "4359e591-2329-43c8-9a4e-510629daeb1b",
   "metadata": {},
   "outputs": [
    {
     "data": {
      "text/html": [
       "<div>\n",
       "<style scoped>\n",
       "    .dataframe tbody tr th:only-of-type {\n",
       "        vertical-align: middle;\n",
       "    }\n",
       "\n",
       "    .dataframe tbody tr th {\n",
       "        vertical-align: top;\n",
       "    }\n",
       "\n",
       "    .dataframe thead th {\n",
       "        text-align: right;\n",
       "    }\n",
       "</style>\n",
       "<table border=\"1\" class=\"dataframe\">\n",
       "  <thead>\n",
       "    <tr style=\"text-align: right;\">\n",
       "      <th></th>\n",
       "      <th>feature_1</th>\n",
       "      <th>feature_2</th>\n",
       "      <th>target</th>\n",
       "    </tr>\n",
       "  </thead>\n",
       "  <tbody>\n",
       "    <tr>\n",
       "      <th>0</th>\n",
       "      <td>0.697480</td>\n",
       "      <td>0.488784</td>\n",
       "      <td>0</td>\n",
       "    </tr>\n",
       "    <tr>\n",
       "      <th>1</th>\n",
       "      <td>0.367643</td>\n",
       "      <td>1.252162</td>\n",
       "      <td>0</td>\n",
       "    </tr>\n",
       "    <tr>\n",
       "      <th>2</th>\n",
       "      <td>-0.891591</td>\n",
       "      <td>-0.906159</td>\n",
       "      <td>0</td>\n",
       "    </tr>\n",
       "    <tr>\n",
       "      <th>3</th>\n",
       "      <td>-0.771918</td>\n",
       "      <td>-0.476869</td>\n",
       "      <td>0</td>\n",
       "    </tr>\n",
       "    <tr>\n",
       "      <th>4</th>\n",
       "      <td>-0.572669</td>\n",
       "      <td>-0.800108</td>\n",
       "      <td>0</td>\n",
       "    </tr>\n",
       "  </tbody>\n",
       "</table>\n",
       "</div>"
      ],
      "text/plain": [
       "   feature_1  feature_2  target\n",
       "0   0.697480   0.488784       0\n",
       "1   0.367643   1.252162       0\n",
       "2  -0.891591  -0.906159       0\n",
       "3  -0.771918  -0.476869       0\n",
       "4  -0.572669  -0.800108       0"
      ]
     },
     "execution_count": 22,
     "metadata": {},
     "output_type": "execute_result"
    }
   ],
   "source": [
    "df.head()"
   ]
  },
  {
   "cell_type": "code",
   "execution_count": 23,
   "id": "42af1827-3fa0-42a7-8e1d-9031668af44d",
   "metadata": {},
   "outputs": [
    {
     "data": {
      "text/plain": [
       "0    900\n",
       "1    100\n",
       "Name: target, dtype: int64"
      ]
     },
     "execution_count": 23,
     "metadata": {},
     "output_type": "execute_result"
    }
   ],
   "source": [
    "df[\"target\"].value_counts()\n"
   ]
  },
  {
   "cell_type": "markdown",
   "id": "9cab64b7-a5c7-46cd-bb4f-c04740214d92",
   "metadata": {},
   "source": [
    "# UPSAMPLING:"
   ]
  },
  {
   "cell_type": "code",
   "execution_count": 25,
   "id": "786162eb-53cf-4ca0-a2f8-63efce04052e",
   "metadata": {},
   "outputs": [],
   "source": [
    "df_minority = df[df['target']==1]    # minority features having target val ==1\n",
    "df_majority = df[df['target']==0]    # majority features having target val ==0"
   ]
  },
  {
   "cell_type": "code",
   "execution_count": 26,
   "id": "1a409a9e-cf43-44c3-992d-467b3b5cb58b",
   "metadata": {},
   "outputs": [
    {
     "data": {
      "text/html": [
       "<div>\n",
       "<style scoped>\n",
       "    .dataframe tbody tr th:only-of-type {\n",
       "        vertical-align: middle;\n",
       "    }\n",
       "\n",
       "    .dataframe tbody tr th {\n",
       "        vertical-align: top;\n",
       "    }\n",
       "\n",
       "    .dataframe thead th {\n",
       "        text-align: right;\n",
       "    }\n",
       "</style>\n",
       "<table border=\"1\" class=\"dataframe\">\n",
       "  <thead>\n",
       "    <tr style=\"text-align: right;\">\n",
       "      <th></th>\n",
       "      <th>feature_1</th>\n",
       "      <th>feature_2</th>\n",
       "      <th>target</th>\n",
       "    </tr>\n",
       "  </thead>\n",
       "  <tbody>\n",
       "    <tr>\n",
       "      <th>900</th>\n",
       "      <td>0.135006</td>\n",
       "      <td>0.185756</td>\n",
       "      <td>1</td>\n",
       "    </tr>\n",
       "    <tr>\n",
       "      <th>901</th>\n",
       "      <td>-0.060727</td>\n",
       "      <td>0.365492</td>\n",
       "      <td>1</td>\n",
       "    </tr>\n",
       "    <tr>\n",
       "      <th>902</th>\n",
       "      <td>0.105359</td>\n",
       "      <td>1.972943</td>\n",
       "      <td>1</td>\n",
       "    </tr>\n",
       "    <tr>\n",
       "      <th>903</th>\n",
       "      <td>-0.477503</td>\n",
       "      <td>-0.402066</td>\n",
       "      <td>1</td>\n",
       "    </tr>\n",
       "    <tr>\n",
       "      <th>904</th>\n",
       "      <td>-0.587949</td>\n",
       "      <td>1.148192</td>\n",
       "      <td>1</td>\n",
       "    </tr>\n",
       "  </tbody>\n",
       "</table>\n",
       "</div>"
      ],
      "text/plain": [
       "     feature_1  feature_2  target\n",
       "900   0.135006   0.185756       1\n",
       "901  -0.060727   0.365492       1\n",
       "902   0.105359   1.972943       1\n",
       "903  -0.477503  -0.402066       1\n",
       "904  -0.587949   1.148192       1"
      ]
     },
     "execution_count": 26,
     "metadata": {},
     "output_type": "execute_result"
    }
   ],
   "source": [
    "df_minority.head()"
   ]
  },
  {
   "cell_type": "code",
   "execution_count": 27,
   "id": "39559ac7-e4be-429c-be1b-cdb28ab99db1",
   "metadata": {},
   "outputs": [
    {
     "data": {
      "text/html": [
       "<div>\n",
       "<style scoped>\n",
       "    .dataframe tbody tr th:only-of-type {\n",
       "        vertical-align: middle;\n",
       "    }\n",
       "\n",
       "    .dataframe tbody tr th {\n",
       "        vertical-align: top;\n",
       "    }\n",
       "\n",
       "    .dataframe thead th {\n",
       "        text-align: right;\n",
       "    }\n",
       "</style>\n",
       "<table border=\"1\" class=\"dataframe\">\n",
       "  <thead>\n",
       "    <tr style=\"text-align: right;\">\n",
       "      <th></th>\n",
       "      <th>feature_1</th>\n",
       "      <th>feature_2</th>\n",
       "      <th>target</th>\n",
       "    </tr>\n",
       "  </thead>\n",
       "  <tbody>\n",
       "    <tr>\n",
       "      <th>0</th>\n",
       "      <td>0.697480</td>\n",
       "      <td>0.488784</td>\n",
       "      <td>0</td>\n",
       "    </tr>\n",
       "    <tr>\n",
       "      <th>1</th>\n",
       "      <td>0.367643</td>\n",
       "      <td>1.252162</td>\n",
       "      <td>0</td>\n",
       "    </tr>\n",
       "    <tr>\n",
       "      <th>2</th>\n",
       "      <td>-0.891591</td>\n",
       "      <td>-0.906159</td>\n",
       "      <td>0</td>\n",
       "    </tr>\n",
       "    <tr>\n",
       "      <th>3</th>\n",
       "      <td>-0.771918</td>\n",
       "      <td>-0.476869</td>\n",
       "      <td>0</td>\n",
       "    </tr>\n",
       "    <tr>\n",
       "      <th>4</th>\n",
       "      <td>-0.572669</td>\n",
       "      <td>-0.800108</td>\n",
       "      <td>0</td>\n",
       "    </tr>\n",
       "  </tbody>\n",
       "</table>\n",
       "</div>"
      ],
      "text/plain": [
       "   feature_1  feature_2  target\n",
       "0   0.697480   0.488784       0\n",
       "1   0.367643   1.252162       0\n",
       "2  -0.891591  -0.906159       0\n",
       "3  -0.771918  -0.476869       0\n",
       "4  -0.572669  -0.800108       0"
      ]
     },
     "execution_count": 27,
     "metadata": {},
     "output_type": "execute_result"
    }
   ],
   "source": [
    "df_majority.head()"
   ]
  },
  {
   "cell_type": "code",
   "execution_count": 28,
   "id": "41c94752-4c57-4f76-81d9-a75999a83709",
   "metadata": {},
   "outputs": [
    {
     "data": {
      "text/html": [
       "<div>\n",
       "<style scoped>\n",
       "    .dataframe tbody tr th:only-of-type {\n",
       "        vertical-align: middle;\n",
       "    }\n",
       "\n",
       "    .dataframe tbody tr th {\n",
       "        vertical-align: top;\n",
       "    }\n",
       "\n",
       "    .dataframe thead th {\n",
       "        text-align: right;\n",
       "    }\n",
       "</style>\n",
       "<table border=\"1\" class=\"dataframe\">\n",
       "  <thead>\n",
       "    <tr style=\"text-align: right;\">\n",
       "      <th></th>\n",
       "      <th>feature_1</th>\n",
       "      <th>feature_2</th>\n",
       "      <th>target</th>\n",
       "    </tr>\n",
       "  </thead>\n",
       "  <tbody>\n",
       "    <tr>\n",
       "      <th>895</th>\n",
       "      <td>-0.010414</td>\n",
       "      <td>-0.669185</td>\n",
       "      <td>0</td>\n",
       "    </tr>\n",
       "    <tr>\n",
       "      <th>896</th>\n",
       "      <td>-0.887937</td>\n",
       "      <td>-1.170086</td>\n",
       "      <td>0</td>\n",
       "    </tr>\n",
       "    <tr>\n",
       "      <th>897</th>\n",
       "      <td>0.921821</td>\n",
       "      <td>0.671783</td>\n",
       "      <td>0</td>\n",
       "    </tr>\n",
       "    <tr>\n",
       "      <th>898</th>\n",
       "      <td>-0.898931</td>\n",
       "      <td>-1.372305</td>\n",
       "      <td>0</td>\n",
       "    </tr>\n",
       "    <tr>\n",
       "      <th>899</th>\n",
       "      <td>-0.869760</td>\n",
       "      <td>-0.926567</td>\n",
       "      <td>0</td>\n",
       "    </tr>\n",
       "  </tbody>\n",
       "</table>\n",
       "</div>"
      ],
      "text/plain": [
       "     feature_1  feature_2  target\n",
       "895  -0.010414  -0.669185       0\n",
       "896  -0.887937  -1.170086       0\n",
       "897   0.921821   0.671783       0\n",
       "898  -0.898931  -1.372305       0\n",
       "899  -0.869760  -0.926567       0"
      ]
     },
     "execution_count": 28,
     "metadata": {},
     "output_type": "execute_result"
    }
   ],
   "source": [
    "df_majority.tail()"
   ]
  },
  {
   "cell_type": "code",
   "execution_count": 43,
   "id": "d93f65e4-e7d5-4658-ac48-b48976f727e7",
   "metadata": {},
   "outputs": [],
   "source": [
    "##Upsampling perform\n",
    "from sklearn.utils import resample"
   ]
  },
  {
   "cell_type": "code",
   "execution_count": 44,
   "id": "e2cf62d2-2367-4b25-942d-798c308e2451",
   "metadata": {},
   "outputs": [],
   "source": [
    "df_minority_upsample = resample(df_minority,\n",
    "                               replace=True,  # Implements resampling with replacement. If False, this will implement random permutations\n",
    "                               n_samples=len(df_majority), # to match the majority class , i.e of zeros (to increase the 1's from 100 to 900)\n",
    "                               random_state=42)"
   ]
  },
  {
   "cell_type": "code",
   "execution_count": 45,
   "id": "3ef854d8-a839-4e46-9cc0-ab2e700d3ef7",
   "metadata": {},
   "outputs": [
    {
     "data": {
      "text/plain": [
       "(900, 3)"
      ]
     },
     "execution_count": 45,
     "metadata": {},
     "output_type": "execute_result"
    }
   ],
   "source": [
    "df_minority_upsample.shape"
   ]
  },
  {
   "cell_type": "code",
   "execution_count": 46,
   "id": "6f06c2e3-b881-4b02-9542-41a887ef86ee",
   "metadata": {},
   "outputs": [
    {
     "data": {
      "text/plain": [
       "1    900\n",
       "Name: target, dtype: int64"
      ]
     },
     "execution_count": 46,
     "metadata": {},
     "output_type": "execute_result"
    }
   ],
   "source": [
    "df_minority_upsample[\"target\"].value_counts()"
   ]
  },
  {
   "cell_type": "code",
   "execution_count": 47,
   "id": "d4694eaf-493f-4570-acf7-01d7e294dbe7",
   "metadata": {},
   "outputs": [],
   "source": [
    "upsampled_df = pd.concat([df_majority,df_minority_upsample]) #CONCATINATING THE MAJORITY AND UPSAMPLED DF FOR CHECKING OUT THE VALUES"
   ]
  },
  {
   "cell_type": "code",
   "execution_count": 48,
   "id": "e7064700-3bbb-4a9f-80d5-a4468944273c",
   "metadata": {},
   "outputs": [
    {
     "data": {
      "text/plain": [
       "0    900\n",
       "1    900\n",
       "Name: target, dtype: int64"
      ]
     },
     "execution_count": 48,
     "metadata": {},
     "output_type": "execute_result"
    }
   ],
   "source": [
    "upsampled_df[\"target\"].value_counts()"
   ]
  },
  {
   "cell_type": "code",
   "execution_count": 49,
   "id": "5771ea39-0c99-4f11-b6dc-70e0dd198f3c",
   "metadata": {},
   "outputs": [
    {
     "data": {
      "text/plain": [
       "(1800, 3)"
      ]
     },
     "execution_count": 49,
     "metadata": {},
     "output_type": "execute_result"
    }
   ],
   "source": [
    "upsampled_df.shape   # 1'S VALUE ARE UPSAMPLED TO MATCH 0'S VALUE"
   ]
  },
  {
   "cell_type": "markdown",
   "id": "8f088227-da84-4a54-bcc3-a60b529a6cde",
   "metadata": {},
   "source": [
    "# DOWNSAMPLING:"
   ]
  },
  {
   "cell_type": "code",
   "execution_count": 50,
   "id": "9a45a18d-ecdf-4644-b567-ac0740ac62b3",
   "metadata": {},
   "outputs": [],
   "source": [
    "# REDUCING THE ZEROS TO MATCH THE ONES:"
   ]
  },
  {
   "cell_type": "code",
   "execution_count": 51,
   "id": "908720bc-0fe2-42fc-98ed-e323d21130fb",
   "metadata": {},
   "outputs": [],
   "source": [
    "df_majority_downsample = resample(df_majority,\n",
    "                                 replace = True,\n",
    "                                 n_samples = len(df_minority),\n",
    "                                 random_state=50)\n"
   ]
  },
  {
   "cell_type": "code",
   "execution_count": 52,
   "id": "54d2f517-f7fc-4992-acdb-aee26eb9ad64",
   "metadata": {},
   "outputs": [
    {
     "data": {
      "text/plain": [
       "(100, 3)"
      ]
     },
     "execution_count": 52,
     "metadata": {},
     "output_type": "execute_result"
    }
   ],
   "source": [
    "df_majority_downsample.shape"
   ]
  },
  {
   "cell_type": "code",
   "execution_count": 53,
   "id": "00739f02-9f63-4e31-9673-9292c5a3d447",
   "metadata": {},
   "outputs": [
    {
     "data": {
      "text/plain": [
       "0    100\n",
       "Name: target, dtype: int64"
      ]
     },
     "execution_count": 53,
     "metadata": {},
     "output_type": "execute_result"
    }
   ],
   "source": [
    "df_majority_downsample[\"target\"].value_counts()"
   ]
  },
  {
   "cell_type": "code",
   "execution_count": 56,
   "id": "ddf28fb3-ba2d-4c3d-b21c-a58b83e362a5",
   "metadata": {},
   "outputs": [],
   "source": [
    "downsampled_df = pd.concat([df_majority_downsample,df_minority]) #CONCATINATING THE MINORITY AND DOWNSAMPLED_DF FOR CHECKING OUT THE VALUES"
   ]
  },
  {
   "cell_type": "code",
   "execution_count": 57,
   "id": "923ea13f-17e9-42c3-a0a3-0213f3561c3c",
   "metadata": {},
   "outputs": [
    {
     "data": {
      "text/plain": [
       "0    100\n",
       "1    100\n",
       "Name: target, dtype: int64"
      ]
     },
     "execution_count": 57,
     "metadata": {},
     "output_type": "execute_result"
    }
   ],
   "source": [
    "downsampled_df[\"target\"].value_counts()"
   ]
  },
  {
   "cell_type": "code",
   "execution_count": 58,
   "id": "52fff88d-c1fc-4534-b00f-56971ae34886",
   "metadata": {},
   "outputs": [
    {
     "data": {
      "text/plain": [
       "(200, 3)"
      ]
     },
     "execution_count": 58,
     "metadata": {},
     "output_type": "execute_result"
    }
   ],
   "source": [
    "downsampled_df.shape  # 0'S VALUE ARE DOWNSAMPLED TO MATCH 1'S VALUE"
   ]
  },
  {
   "cell_type": "code",
   "execution_count": null,
   "id": "d4aba397-80ba-41db-9e03-f5b0a060f102",
   "metadata": {},
   "outputs": [],
   "source": []
  },
  {
   "cell_type": "markdown",
   "id": "627dd91d-d199-48ec-a612-3038178c3a59",
   "metadata": {},
   "source": [
    "# SMOTE:"
   ]
  },
  {
   "cell_type": "code",
   "execution_count": 1,
   "id": "f8fac9c6-1928-41d8-9b9e-48f3520421d5",
   "metadata": {},
   "outputs": [
    {
     "data": {
      "text/plain": [
       "'\\nSMOTE (Synthetic Minority Over-sampling Technique) is a technique used in machine learning to address imbalanced \\ndatasets where the minority class has significantly fewer instances than the majority class. \\nSMOTE involves generating synthetic instances of the minority class by interpolating between existing instances.\\n'"
      ]
     },
     "execution_count": 1,
     "metadata": {},
     "output_type": "execute_result"
    }
   ],
   "source": [
    "## SMOTE(Synthetic Minority Oversampling Technique)\n",
    "'''\n",
    "SMOTE (Synthetic Minority Over(up)-sampling Technique) is a technique used in machine learning to address imbalanced \n",
    "datasets where the minority class has significantly fewer instances than the majority class. \n",
    "SMOTE involves generating synthetic instances of the minority class by interpolating between existing instances.\n",
    "'''"
   ]
  },
  {
   "cell_type": "code",
   "execution_count": 60,
   "id": "f80684ea-92f6-472a-b0c0-923a98d9b3ee",
   "metadata": {},
   "outputs": [],
   "source": [
    "from sklearn.datasets import make_classification  # for classifying features"
   ]
  },
  {
   "cell_type": "code",
   "execution_count": 61,
   "id": "5a517832-c3cd-4b37-b5b7-00168daeebc9",
   "metadata": {},
   "outputs": [
    {
     "data": {
      "text/plain": [
       "'\\nweights = The proportions of samples assigned to each class. If None, then classes are balanced.\\n          weights = [0.9] means classes are not balanced. It is in the ratio 9:1\\n          \\nn_redundant = The number of redundant features. These features are generated as random linear combinations of the informative features.\\n'"
      ]
     },
     "execution_count": 61,
     "metadata": {},
     "output_type": "execute_result"
    }
   ],
   "source": [
    "## X - independent feature(input feature)\n",
    "## y - dependent fearure(output feature)\n",
    "\n",
    "# make_classification - Generate a random n-class classification problem.\n",
    "\n",
    "X,y = make_classification(n_samples=1000 , n_features=2 ,n_redundant = 0 ,n_clusters_per_class=1 , weights=[0.90],random_state=1)\n",
    "\n",
    "\"\"\"\n",
    "weights = The proportions of samples assigned to each class. If None, then classes are balanced.\n",
    "          weights = [0.9] means classes are not balanced. It is in the ratio 9:1\n",
    "\n",
    "n_features = represents the number of features to be derived\n",
    "\n",
    "n_redundant = The number of redundant features. These features are generated as random linear combinations of the informative features.\n",
    "\"\"\""
   ]
  },
  {
   "cell_type": "code",
   "execution_count": 62,
   "id": "8337bc3a-92b5-4369-b2d9-654532b6902d",
   "metadata": {},
   "outputs": [
    {
     "data": {
      "text/plain": [
       "(array([[ 1.53682958, -1.39869399],\n",
       "        [ 1.55110839,  1.81032905],\n",
       "        [ 1.29361936,  1.01094607],\n",
       "        ...,\n",
       "        [-0.55662536, -0.15983725],\n",
       "        [ 1.00499902,  0.93628981],\n",
       "        [ 1.46210987,  1.14497791]]),\n",
       " array([1, 0, 0, 0, 0, 0, 0, 0, 1, 0, 0, 0, 0, 0, 1, 0, 0, 1, 0, 0, 1, 0,\n",
       "        0, 0, 0, 1, 0, 0, 0, 0, 0, 0, 0, 1, 0, 0, 0, 0, 0, 0, 0, 0, 0, 0,\n",
       "        0, 0, 0, 0, 0, 0, 0, 0, 0, 0, 0, 0, 0, 1, 0, 1, 0, 0, 0, 0, 0, 1,\n",
       "        0, 0, 0, 0, 0, 0, 0, 0, 0, 0, 1, 0, 0, 0, 0, 0, 0, 0, 0, 1, 0, 0,\n",
       "        0, 0, 0, 0, 0, 0, 0, 0, 0, 0, 0, 0, 1, 0, 1, 0, 0, 0, 0, 0, 1, 0,\n",
       "        0, 0, 0, 0, 0, 0, 0, 0, 1, 0, 0, 1, 0, 0, 0, 0, 1, 0, 0, 0, 0, 0,\n",
       "        0, 0, 0, 0, 0, 0, 1, 0, 0, 0, 0, 1, 0, 0, 0, 0, 0, 0, 1, 0, 0, 0,\n",
       "        1, 0, 0, 0, 0, 1, 0, 0, 0, 0, 0, 0, 0, 0, 0, 0, 0, 0, 0, 0, 0, 0,\n",
       "        0, 0, 0, 1, 1, 0, 1, 1, 1, 0, 1, 0, 0, 0, 0, 0, 0, 0, 0, 0, 0, 0,\n",
       "        0, 0, 0, 0, 0, 0, 0, 0, 0, 0, 0, 0, 1, 0, 0, 0, 1, 0, 0, 0, 0, 0,\n",
       "        0, 0, 0, 0, 0, 0, 0, 0, 1, 0, 0, 0, 0, 0, 0, 0, 0, 0, 0, 1, 0, 1,\n",
       "        0, 0, 1, 0, 0, 0, 0, 0, 0, 0, 0, 1, 0, 0, 0, 0, 0, 0, 0, 0, 0, 0,\n",
       "        0, 0, 0, 0, 0, 1, 0, 0, 0, 0, 0, 0, 0, 0, 1, 0, 0, 0, 0, 1, 0, 0,\n",
       "        0, 0, 0, 0, 0, 0, 0, 0, 0, 0, 0, 0, 0, 0, 0, 1, 0, 0, 0, 0, 1, 0,\n",
       "        0, 0, 1, 0, 0, 0, 0, 0, 0, 0, 0, 0, 0, 0, 0, 0, 0, 0, 0, 0, 1, 1,\n",
       "        0, 0, 0, 0, 0, 1, 0, 0, 0, 0, 1, 0, 0, 0, 0, 0, 0, 0, 0, 0, 0, 0,\n",
       "        0, 0, 1, 0, 0, 0, 0, 0, 0, 0, 0, 0, 0, 0, 0, 0, 0, 0, 0, 0, 0, 0,\n",
       "        0, 0, 0, 0, 0, 1, 1, 1, 0, 0, 0, 0, 0, 0, 0, 0, 0, 0, 0, 0, 0, 0,\n",
       "        0, 0, 0, 0, 0, 0, 0, 0, 0, 0, 0, 0, 0, 0, 0, 0, 0, 1, 0, 1, 0, 0,\n",
       "        0, 0, 0, 0, 0, 0, 0, 0, 0, 1, 0, 0, 0, 0, 0, 0, 0, 0, 1, 0, 0, 0,\n",
       "        0, 1, 0, 0, 0, 0, 0, 0, 0, 0, 0, 0, 0, 1, 0, 0, 0, 0, 0, 0, 1, 0,\n",
       "        0, 1, 0, 0, 0, 0, 0, 0, 0, 0, 0, 0, 0, 0, 0, 0, 0, 0, 0, 0, 0, 0,\n",
       "        0, 0, 0, 0, 0, 0, 0, 0, 0, 0, 0, 0, 0, 1, 1, 0, 1, 0, 0, 0, 0, 0,\n",
       "        0, 0, 0, 1, 0, 0, 0, 0, 0, 0, 1, 1, 1, 0, 0, 0, 0, 1, 0, 0, 0, 0,\n",
       "        0, 0, 0, 0, 0, 0, 0, 0, 1, 0, 0, 0, 0, 0, 0, 0, 0, 0, 0, 0, 0, 0,\n",
       "        0, 0, 1, 0, 1, 0, 1, 1, 1, 0, 0, 1, 0, 0, 1, 0, 0, 0, 0, 0, 0, 0,\n",
       "        0, 0, 0, 0, 1, 1, 0, 0, 0, 0, 0, 0, 0, 0, 0, 0, 1, 0, 1, 0, 0, 0,\n",
       "        0, 0, 0, 1, 0, 1, 0, 0, 0, 0, 0, 0, 0, 0, 0, 0, 0, 0, 0, 0, 0, 0,\n",
       "        0, 0, 0, 0, 0, 0, 0, 0, 0, 0, 0, 0, 0, 0, 0, 0, 0, 0, 1, 0, 0, 0,\n",
       "        0, 0, 0, 0, 0, 0, 0, 0, 0, 0, 1, 0, 0, 0, 0, 0, 0, 0, 0, 0, 0, 0,\n",
       "        0, 0, 0, 1, 1, 0, 0, 0, 0, 0, 0, 1, 0, 0, 0, 1, 0, 0, 0, 1, 0, 0,\n",
       "        0, 0, 0, 0, 0, 0, 0, 0, 0, 0, 0, 0, 1, 0, 0, 0, 0, 0, 0, 0, 0, 0,\n",
       "        0, 0, 0, 0, 0, 1, 0, 0, 0, 0, 0, 0, 0, 0, 0, 0, 0, 0, 0, 0, 0, 0,\n",
       "        0, 0, 0, 0, 0, 0, 0, 0, 0, 0, 0, 0, 0, 0, 0, 0, 0, 0, 0, 0, 0, 0,\n",
       "        0, 0, 0, 1, 0, 0, 0, 0, 0, 0, 0, 0, 0, 0, 0, 0, 0, 0, 0, 0, 0, 0,\n",
       "        0, 0, 0, 0, 0, 0, 0, 1, 0, 1, 0, 0, 0, 0, 0, 0, 0, 0, 0, 0, 0, 0,\n",
       "        0, 0, 1, 1, 0, 0, 0, 0, 0, 0, 0, 0, 0, 0, 0, 0, 0, 0, 0, 0, 0, 0,\n",
       "        1, 0, 0, 0, 0, 0, 0, 0, 0, 0, 0, 0, 1, 0, 0, 0, 0, 0, 0, 0, 0, 0,\n",
       "        0, 0, 0, 0, 1, 0, 0, 0, 0, 0, 0, 0, 0, 0, 0, 0, 0, 0, 0, 0, 0, 0,\n",
       "        0, 0, 0, 0, 0, 0, 0, 0, 0, 0, 0, 0, 0, 0, 0, 0, 0, 0, 0, 0, 0, 0,\n",
       "        0, 0, 0, 0, 0, 0, 0, 0, 0, 1, 0, 0, 0, 0, 0, 0, 0, 0, 1, 0, 0, 0,\n",
       "        0, 1, 0, 0, 0, 0, 0, 0, 0, 0, 0, 1, 0, 0, 0, 0, 0, 0, 0, 0, 0, 0,\n",
       "        0, 1, 0, 0, 0, 0, 0, 0, 0, 0, 0, 0, 1, 0, 0, 0, 0, 0, 0, 0, 0, 0,\n",
       "        0, 0, 0, 0, 0, 1, 0, 1, 0, 0, 0, 0, 0, 0, 0, 0, 0, 0, 0, 1, 0, 0,\n",
       "        0, 0, 0, 0, 0, 0, 0, 0, 0, 0, 0, 0, 0, 0, 0, 0, 0, 0, 0, 0, 0, 0,\n",
       "        0, 0, 0, 0, 0, 0, 0, 0, 0, 0]))"
      ]
     },
     "execution_count": 62,
     "metadata": {},
     "output_type": "execute_result"
    }
   ],
   "source": [
    "X,y"
   ]
  },
  {
   "cell_type": "code",
   "execution_count": 69,
   "id": "7dd9aee2-9bc6-45a6-af32-f2c49c10aede",
   "metadata": {},
   "outputs": [],
   "source": [
    "import pandas as pd\n",
    "df1=pd.DataFrame(X,columns=['f1','f2'])\n",
    "df2=pd.DataFrame(y,columns=['target'])\n",
    "final_df=pd.concat([df1,df2],axis=1)  # axis=1 , represents concatinating df column wise:"
   ]
  },
  {
   "cell_type": "code",
   "execution_count": 70,
   "id": "8fc6d82f-9f4d-43b6-8971-a645eeb4ebae",
   "metadata": {},
   "outputs": [
    {
     "data": {
      "text/html": [
       "<div>\n",
       "<style scoped>\n",
       "    .dataframe tbody tr th:only-of-type {\n",
       "        vertical-align: middle;\n",
       "    }\n",
       "\n",
       "    .dataframe tbody tr th {\n",
       "        vertical-align: top;\n",
       "    }\n",
       "\n",
       "    .dataframe thead th {\n",
       "        text-align: right;\n",
       "    }\n",
       "</style>\n",
       "<table border=\"1\" class=\"dataframe\">\n",
       "  <thead>\n",
       "    <tr style=\"text-align: right;\">\n",
       "      <th></th>\n",
       "      <th>f1</th>\n",
       "      <th>f2</th>\n",
       "      <th>target</th>\n",
       "    </tr>\n",
       "  </thead>\n",
       "  <tbody>\n",
       "    <tr>\n",
       "      <th>0</th>\n",
       "      <td>1.536830</td>\n",
       "      <td>-1.398694</td>\n",
       "      <td>1</td>\n",
       "    </tr>\n",
       "    <tr>\n",
       "      <th>1</th>\n",
       "      <td>1.551108</td>\n",
       "      <td>1.810329</td>\n",
       "      <td>0</td>\n",
       "    </tr>\n",
       "    <tr>\n",
       "      <th>2</th>\n",
       "      <td>1.293619</td>\n",
       "      <td>1.010946</td>\n",
       "      <td>0</td>\n",
       "    </tr>\n",
       "    <tr>\n",
       "      <th>3</th>\n",
       "      <td>1.119889</td>\n",
       "      <td>1.632518</td>\n",
       "      <td>0</td>\n",
       "    </tr>\n",
       "    <tr>\n",
       "      <th>4</th>\n",
       "      <td>1.042356</td>\n",
       "      <td>1.121529</td>\n",
       "      <td>0</td>\n",
       "    </tr>\n",
       "  </tbody>\n",
       "</table>\n",
       "</div>"
      ],
      "text/plain": [
       "         f1        f2  target\n",
       "0  1.536830 -1.398694       1\n",
       "1  1.551108  1.810329       0\n",
       "2  1.293619  1.010946       0\n",
       "3  1.119889  1.632518       0\n",
       "4  1.042356  1.121529       0"
      ]
     },
     "execution_count": 70,
     "metadata": {},
     "output_type": "execute_result"
    }
   ],
   "source": [
    "final_df.head()"
   ]
  },
  {
   "cell_type": "code",
   "execution_count": 71,
   "id": "08d192d4-44cb-48f5-befa-a43f2cf55f86",
   "metadata": {},
   "outputs": [
    {
     "data": {
      "text/plain": [
       "0    894\n",
       "1    106\n",
       "Name: target, dtype: int64"
      ]
     },
     "execution_count": 71,
     "metadata": {},
     "output_type": "execute_result"
    }
   ],
   "source": [
    "final_df[\"target\"].value_counts()"
   ]
  },
  {
   "cell_type": "code",
   "execution_count": 72,
   "id": "05963b3c-e811-45c4-b9c0-b83fe1d3ccb5",
   "metadata": {},
   "outputs": [],
   "source": [
    "import matplotlib.pyplot as plt\n"
   ]
  },
  {
   "cell_type": "code",
   "execution_count": 75,
   "id": "1bd55e29-181f-492b-a64d-42495d308fb0",
   "metadata": {},
   "outputs": [
    {
     "data": {
      "text/plain": [
       "<matplotlib.collections.PathCollection at 0x7f3e344e3b20>"
      ]
     },
     "execution_count": 75,
     "metadata": {},
     "output_type": "execute_result"
    },
    {
     "data": {
      "image/png": "[encoded data removed]",
      "text/plain": [
       "<Figure size 640x480 with 1 Axes>"
      ]
     },
     "metadata": {},
     "output_type": "display_data"
    }
   ],
   "source": [
    "plt.scatter(final_df['f1'],final_df['f2'], c=final_df['target'])"
   ]
  },
  {
   "cell_type": "code",
   "execution_count": 10,
   "id": "492641c1-7bc2-4795-a709-5040596c891d",
   "metadata": {},
   "outputs": [],
   "source": [
    "# unbalanced dataset, no equal number of 1's and 0's"
   ]
  },
  {
   "cell_type": "code",
   "execution_count": 11,
   "id": "e3e52502-17bc-4faa-a74b-1c4720b0be6e",
   "metadata": {},
   "outputs": [
    {
     "name": "stdout",
     "output_type": "stream",
     "text": [
      "Collecting imblearn\n",
      "  Downloading imblearn-0.0-py2.py3-none-any.whl (1.9 kB)\n",
      "Collecting imbalanced-learn\n",
      "  Downloading imbalanced_learn-0.10.1-py3-none-any.whl (226 kB)\n",
      "\u001b[2K     \u001b[90m━━━━━━━━━━━━━━━━━━━━━━━━━━━━━━━━━━━━━━━\u001b[0m \u001b[32m226.0/226.0 kB\u001b[0m \u001b[31m9.0 MB/s\u001b[0m eta \u001b[36m0:00:00\u001b[0m\n",
      "\u001b[?25hRequirement already satisfied: numpy>=1.17.3 in /opt/conda/lib/python3.10/site-packages (from imbalanced-learn->imblearn) (1.23.5)\n",
      "Requirement already satisfied: threadpoolctl>=2.0.0 in /opt/conda/lib/python3.10/site-packages (from imbalanced-learn->imblearn) (3.1.0)\n",
      "Requirement already satisfied: scikit-learn>=1.0.2 in /opt/conda/lib/python3.10/site-packages (from imbalanced-learn->imblearn) (1.2.0)\n",
      "Requirement already satisfied: scipy>=1.3.2 in /opt/conda/lib/python3.10/site-packages (from imbalanced-learn->imblearn) (1.9.3)\n",
      "Requirement already satisfied: joblib>=1.1.1 in /opt/conda/lib/python3.10/site-packages (from imbalanced-learn->imblearn) (1.2.0)\n",
      "Installing collected packages: imbalanced-learn, imblearn\n",
      "Successfully installed imbalanced-learn-0.10.1 imblearn-0.0\n"
     ]
    }
   ],
   "source": [
    "!pip install imblearn"
   ]
  },
  {
   "cell_type": "code",
   "execution_count": 12,
   "id": "1bc5d007-6a43-463f-a52a-f2dcde5ac5b8",
   "metadata": {},
   "outputs": [],
   "source": [
    "from imblearn.over_sampling import SMOTE   # from imbalancedlearn importing smote:"
   ]
  },
  {
   "cell_type": "code",
   "execution_count": 13,
   "id": "5d13be82-61db-4f65-a171-db4cc137565f",
   "metadata": {},
   "outputs": [],
   "source": [
    "# USING SMOTE TECHNIQUE FOR OVERSAMPLING:\n",
    "oversample = SMOTE()"
   ]
  },
  {
   "cell_type": "code",
   "execution_count": 14,
   "id": "a0472f44-135a-4fdc-9061-88b7666bd9c6",
   "metadata": {},
   "outputs": [],
   "source": [
    "X,y = oversample.fit_resample(final_df[['f1','f2']],final_df['target'])\n",
    "# pass the data-points(features) and the target variable(output)"
   ]
  },
  {
   "cell_type": "code",
   "execution_count": 15,
   "id": "0e04b516-570a-426c-a6d3-b04f7b945caa",
   "metadata": {},
   "outputs": [
    {
     "data": {
      "text/plain": [
       "894"
      ]
     },
     "execution_count": 15,
     "metadata": {},
     "output_type": "execute_result"
    }
   ],
   "source": [
    "len(y[y == 0])"
   ]
  },
  {
   "cell_type": "code",
   "execution_count": 16,
   "id": "c71fea0b-ce5c-4e11-932b-234e83489e2d",
   "metadata": {
    "tags": []
   },
   "outputs": [
    {
     "data": {
      "text/plain": [
       "894"
      ]
     },
     "execution_count": 16,
     "metadata": {},
     "output_type": "execute_result"
    }
   ],
   "source": [
    "len(y[y == 1])"
   ]
  },
  {
   "cell_type": "code",
   "execution_count": 17,
   "id": "cddbb37f-22ff-4d97-8ebb-b92c79a4ba05",
   "metadata": {},
   "outputs": [],
   "source": [
    "df1 = pd.DataFrame(X,columns=[\"f1\",\"f2\"])\n",
    "df2 = pd.DataFrame(y,columns=[\"target\"])\n",
    "\n",
    "oversample_df = pd.concat([df1,df2],axis=1)"
   ]
  },
  {
   "cell_type": "code",
   "execution_count": 18,
   "id": "015b8b3b-a7dd-440c-97dd-7d02a80069ba",
   "metadata": {},
   "outputs": [
    {
     "data": {
      "text/html": [
       "<div>\n",
       "<style scoped>\n",
       "    .dataframe tbody tr th:only-of-type {\n",
       "        vertical-align: middle;\n",
       "    }\n",
       "\n",
       "    .dataframe tbody tr th {\n",
       "        vertical-align: top;\n",
       "    }\n",
       "\n",
       "    .dataframe thead th {\n",
       "        text-align: right;\n",
       "    }\n",
       "</style>\n",
       "<table border=\"1\" class=\"dataframe\">\n",
       "  <thead>\n",
       "    <tr style=\"text-align: right;\">\n",
       "      <th></th>\n",
       "      <th>f1</th>\n",
       "      <th>f2</th>\n",
       "      <th>target</th>\n",
       "    </tr>\n",
       "  </thead>\n",
       "  <tbody>\n",
       "    <tr>\n",
       "      <th>0</th>\n",
       "      <td>1.536830</td>\n",
       "      <td>-1.398694</td>\n",
       "      <td>1</td>\n",
       "    </tr>\n",
       "    <tr>\n",
       "      <th>1</th>\n",
       "      <td>1.551108</td>\n",
       "      <td>1.810329</td>\n",
       "      <td>0</td>\n",
       "    </tr>\n",
       "    <tr>\n",
       "      <th>2</th>\n",
       "      <td>1.293619</td>\n",
       "      <td>1.010946</td>\n",
       "      <td>0</td>\n",
       "    </tr>\n",
       "    <tr>\n",
       "      <th>3</th>\n",
       "      <td>1.119889</td>\n",
       "      <td>1.632518</td>\n",
       "      <td>0</td>\n",
       "    </tr>\n",
       "    <tr>\n",
       "      <th>4</th>\n",
       "      <td>1.042356</td>\n",
       "      <td>1.121529</td>\n",
       "      <td>0</td>\n",
       "    </tr>\n",
       "    <tr>\n",
       "      <th>...</th>\n",
       "      <td>...</td>\n",
       "      <td>...</td>\n",
       "      <td>...</td>\n",
       "    </tr>\n",
       "    <tr>\n",
       "      <th>1783</th>\n",
       "      <td>0.563354</td>\n",
       "      <td>-1.539737</td>\n",
       "      <td>1</td>\n",
       "    </tr>\n",
       "    <tr>\n",
       "      <th>1784</th>\n",
       "      <td>1.606518</td>\n",
       "      <td>-1.085745</td>\n",
       "      <td>1</td>\n",
       "    </tr>\n",
       "    <tr>\n",
       "      <th>1785</th>\n",
       "      <td>0.969152</td>\n",
       "      <td>-0.202405</td>\n",
       "      <td>1</td>\n",
       "    </tr>\n",
       "    <tr>\n",
       "      <th>1786</th>\n",
       "      <td>1.262725</td>\n",
       "      <td>-1.238810</td>\n",
       "      <td>1</td>\n",
       "    </tr>\n",
       "    <tr>\n",
       "      <th>1787</th>\n",
       "      <td>1.107420</td>\n",
       "      <td>-0.819837</td>\n",
       "      <td>1</td>\n",
       "    </tr>\n",
       "  </tbody>\n",
       "</table>\n",
       "<p>1788 rows × 3 columns</p>\n",
       "</div>"
      ],
      "text/plain": [
       "            f1        f2  target\n",
       "0     1.536830 -1.398694       1\n",
       "1     1.551108  1.810329       0\n",
       "2     1.293619  1.010946       0\n",
       "3     1.119889  1.632518       0\n",
       "4     1.042356  1.121529       0\n",
       "...        ...       ...     ...\n",
       "1783  0.563354 -1.539737       1\n",
       "1784  1.606518 -1.085745       1\n",
       "1785  0.969152 -0.202405       1\n",
       "1786  1.262725 -1.238810       1\n",
       "1787  1.107420 -0.819837       1\n",
       "\n",
       "[1788 rows x 3 columns]"
      ]
     },
     "execution_count": 18,
     "metadata": {},
     "output_type": "execute_result"
    }
   ],
   "source": [
    "oversample_df"
   ]
  },
  {
   "cell_type": "code",
   "execution_count": 19,
   "id": "cc383b60-6d85-4873-90ac-cb95a986b0e2",
   "metadata": {},
   "outputs": [
    {
     "data": {
      "text/plain": [
       "<matplotlib.collections.PathCollection at 0x7f10ccc697b0>"
      ]
     },
     "execution_count": 19,
     "metadata": {},
     "output_type": "execute_result"
    },
    {
     "data": {
      "image/png": "[encoded data removed]",
      "text/plain": [
       "<Figure size 640x480 with 1 Axes>"
      ]
     },
     "metadata": {},
     "output_type": "display_data"
    }
   ],
   "source": [
    "plt.scatter(oversample_df[\"f1\"],oversample_df[\"f2\"],c = oversample_df[\"target\"])"
   ]
  },
  {
   "cell_type": "code",
   "execution_count": 20,
   "id": "09a7e7b8-6ddc-40c6-98b5-68ff30b93bed",
   "metadata": {},
   "outputs": [],
   "source": [
    "# equal 1's and 0's in the above dataset"
   ]
  },
  {
   "cell_type": "markdown",
   "id": "96edfd31-d80e-419d-b45e-fcf5eeb1d563",
   "metadata": {},
   "source": [
    "# DATA INTERPOLATION"
   ]
  },
  {
   "cell_type": "code",
   "execution_count": null,
   "id": "8fb434db-33a8-4c0a-997c-1cff890127ff",
   "metadata": {},
   "outputs": [],
   "source": []
  },
  {
   "cell_type": "code",
   "execution_count": null,
   "id": "3a9a15d5-eca6-4009-b3b7-d86ef6275d7f",
   "metadata": {},
   "outputs": [],
   "source": []
  },
  {
   "cell_type": "code",
   "execution_count": null,
   "id": "b8682191-8375-44f5-9152-a1e97dccc415",
   "metadata": {},
   "outputs": [],
   "source": []
  },
  {
   "cell_type": "code",
   "execution_count": null,
   "id": "d7f6f49f-85c8-4f46-aca7-1fe7bbb8b491",
   "metadata": {},
   "outputs": [],
   "source": []
  },
  {
   "cell_type": "code",
   "execution_count": null,
   "id": "677253b0-3935-437a-a6b6-f025713c8535",
   "metadata": {},
   "outputs": [],
   "source": []
  },
  {
   "cell_type": "code",
   "execution_count": null,
   "id": "736f9f34-09dd-469d-aa84-46a49ff099f8",
   "metadata": {},
   "outputs": [],
   "source": []
  },
  {
   "cell_type": "code",
   "execution_count": null,
   "id": "44e3ee34-e9df-4e47-9f16-cb5e2ebf59bd",
   "metadata": {},
   "outputs": [],
   "source": []
  },
  {
   "cell_type": "code",
   "execution_count": null,
   "id": "720b5d58-7cdd-4a09-96c3-e247b6e89d71",
   "metadata": {},
   "outputs": [],
   "source": []
  },
  {
   "cell_type": "code",
   "execution_count": null,
   "id": "62c933f4-15a6-4124-86f2-5591b96dc4f8",
   "metadata": {},
   "outputs": [],
   "source": []
  },
  {
   "cell_type": "code",
   "execution_count": null,
   "id": "b2cda2d3-bc1f-4e49-8622-9d36e42863f3",
   "metadata": {},
   "outputs": [],
   "source": []
  },
  {
   "cell_type": "code",
   "execution_count": null,
   "id": "da63e742-2d25-4b6a-9c89-6bfa875bf4a4",
   "metadata": {},
   "outputs": [],
   "source": []
  },
  {
   "cell_type": "code",
   "execution_count": null,
   "id": "eeec32fc-9526-4dc1-b666-e7de9bcd0d5b",
   "metadata": {},
   "outputs": [],
   "source": []
  },
  {
   "cell_type": "code",
   "execution_count": null,
   "id": "fa59498f-5446-4620-ac76-829230d8e033",
   "metadata": {},
   "outputs": [],
   "source": []
  },
  {
   "cell_type": "code",
   "execution_count": null,
   "id": "445a214b-bc84-4724-a43b-ad9f638b59a2",
   "metadata": {},
   "outputs": [],
   "source": []
  },
  {
   "cell_type": "code",
   "execution_count": null,
   "id": "825e4008-fad6-4171-b242-65ec11e210d0",
   "metadata": {},
   "outputs": [],
   "source": []
  },
  {
   "cell_type": "code",
   "execution_count": null,
   "id": "c61ab7ed-24b5-4fa8-a914-301fb779e703",
   "metadata": {},
   "outputs": [],
   "source": []
  },
  {
   "cell_type": "code",
   "execution_count": null,
   "id": "0eb6457f-861b-4f66-89d8-ab98b437b99e",
   "metadata": {},
   "outputs": [],
   "source": []
  },
  {
   "cell_type": "code",
   "execution_count": null,
   "id": "95a8faca-d248-4e0f-bdb3-67bf3272e910",
   "metadata": {},
   "outputs": [],
   "source": []
  },
  {
   "cell_type": "code",
   "execution_count": null,
   "id": "b65a73dd-1f1c-423d-8d1d-30f10f6eb842",
   "metadata": {},
   "outputs": [],
   "source": []
  },
  {
   "cell_type": "code",
   "execution_count": null,
   "id": "91eda5d7-541c-42b8-aa8d-f35de07ce57a",
   "metadata": {},
   "outputs": [],
   "source": []
  }
 ],
 "metadata": {
  "kernelspec": {
   "display_name": "Python 3 (ipykernel)",
   "language": "python",
   "name": "python3"
  },
  "language_info": {
   "codemirror_mode": {
    "name": "ipython",
    "version": 3
   },
   "file_extension": ".py",
   "mimetype": "text/x-python",
   "name": "python",
   "nbconvert_exporter": "python",
   "pygments_lexer": "ipython3",
   "version": "3.10.8"
  }
 },
 "nbformat": 4,
 "nbformat_minor": 5
}
